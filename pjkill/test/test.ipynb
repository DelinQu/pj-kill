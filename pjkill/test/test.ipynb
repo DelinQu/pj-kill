{
 "cells": [
  {
   "cell_type": "code",
   "execution_count": 1,
   "metadata": {},
   "outputs": [],
   "source": [
    "import subprocess\n",
    "import argparse\n",
    "import sys\n",
    "import re\n",
    "import os"
   ]
  },
  {
   "cell_type": "markdown",
   "metadata": {},
   "source": [
    "## Test NODES"
   ]
  },
  {
   "cell_type": "code",
   "execution_count": 8,
   "metadata": {},
   "outputs": [],
   "source": [
    "CINFO_CMD = \"cinfo -p {} occupy-reserved\" # * show nodes of a specific partition\n",
    "\n",
    "def get_nodes(partition):\n",
    "    NODE_LIST = []\n",
    "    try:\n",
    "        lines = subprocess.check_output(CINFO_CMD.format(partition), shell=True).decode(\"ascii\")\n",
    "        print(lines)\n",
    "        lines = lines.split(\"\\n\")\n",
    "        print(lines)\n",
    "        for line in lines[1:-1]:\n",
    "            node = line.split(' ')[0]\n",
    "            NODE_LIST.append(node)\n",
    "    except:\n",
    "        NODE_LIST = []\n",
    "    return NODE_LIST"
   ]
  },
  {
   "cell_type": "code",
   "execution_count": 9,
   "metadata": {},
   "outputs": [
    {
     "name": "stdout",
     "output_type": "stream",
     "text": [
      "\u001b[46;30mHostList                  used/total(GPU) used/total(CPU)   State             Virtual_Partition           \u001b[0m\n",
      "SH-IDC1-10-140-0-136           \u001b[31m8/8\u001b[0m           \u001b[32m82/112\u001b[0m         MIXED             optimal\n",
      "SH-IDC1-10-140-1-32            \u001b[31m8/8\u001b[0m           \u001b[32m102/128\u001b[0m        MIXED             optimal\n",
      "SH-IDC1-10-140-1-54            \u001b[31m8/8\u001b[0m           \u001b[32m42/128\u001b[0m         MIXED             optimal\n",
      "SH-IDC1-10-140-1-59            \u001b[31m8/8\u001b[0m           \u001b[32m28/128\u001b[0m         MIXED             optimal\n",
      "SH-IDC1-10-140-1-168           \u001b[31m8/8\u001b[0m           \u001b[32m68/112\u001b[0m         MIXED             optimal\n",
      "\n",
      "['\\x1b[46;30mHostList                  used/total(GPU) used/total(CPU)   State             Virtual_Partition           \\x1b[0m', 'SH-IDC1-10-140-0-136           \\x1b[31m8/8\\x1b[0m           \\x1b[32m82/112\\x1b[0m         MIXED             optimal', 'SH-IDC1-10-140-1-32            \\x1b[31m8/8\\x1b[0m           \\x1b[32m102/128\\x1b[0m        MIXED             optimal', 'SH-IDC1-10-140-1-54            \\x1b[31m8/8\\x1b[0m           \\x1b[32m42/128\\x1b[0m         MIXED             optimal', 'SH-IDC1-10-140-1-59            \\x1b[31m8/8\\x1b[0m           \\x1b[32m28/128\\x1b[0m         MIXED             optimal', 'SH-IDC1-10-140-1-168           \\x1b[31m8/8\\x1b[0m           \\x1b[32m68/112\\x1b[0m         MIXED             optimal', '']\n"
     ]
    },
    {
     "data": {
      "text/plain": [
       "['SH-IDC1-10-140-0-136',\n",
       " 'SH-IDC1-10-140-1-32',\n",
       " 'SH-IDC1-10-140-1-54',\n",
       " 'SH-IDC1-10-140-1-59',\n",
       " 'SH-IDC1-10-140-1-168']"
      ]
     },
     "execution_count": 9,
     "metadata": {},
     "output_type": "execute_result"
    }
   ],
   "source": [
    "get_nodes(\"optimal\")"
   ]
  },
  {
   "cell_type": "markdown",
   "metadata": {},
   "source": [
    "## Pandas PASSWD"
   ]
  },
  {
   "cell_type": "code",
   "execution_count": 2,
   "metadata": {},
   "outputs": [],
   "source": [
    "import pandas as pd\n",
    "df = pd.DataFrame({\n",
    "    \"A\": [1,2,3],\n",
    "    \"B\": [4,5,6]\n",
    "})\n"
   ]
  },
  {
   "cell_type": "code",
   "execution_count": 4,
   "metadata": {},
   "outputs": [
    {
     "data": {
      "text/html": [
       "<div>\n",
       "<style scoped>\n",
       "    .dataframe tbody tr th:only-of-type {\n",
       "        vertical-align: middle;\n",
       "    }\n",
       "\n",
       "    .dataframe tbody tr th {\n",
       "        vertical-align: top;\n",
       "    }\n",
       "\n",
       "    .dataframe thead th {\n",
       "        text-align: right;\n",
       "    }\n",
       "</style>\n",
       "<table border=\"1\" class=\"dataframe\">\n",
       "  <thead>\n",
       "    <tr style=\"text-align: right;\">\n",
       "      <th></th>\n",
       "      <th>A</th>\n",
       "      <th>B</th>\n",
       "    </tr>\n",
       "  </thead>\n",
       "  <tbody>\n",
       "    <tr>\n",
       "      <th>0</th>\n",
       "      <td>1</td>\n",
       "      <td>4</td>\n",
       "    </tr>\n",
       "    <tr>\n",
       "      <th>1</th>\n",
       "      <td>2</td>\n",
       "      <td>5</td>\n",
       "    </tr>\n",
       "    <tr>\n",
       "      <th>2</th>\n",
       "      <td>3</td>\n",
       "      <td>6</td>\n",
       "    </tr>\n",
       "  </tbody>\n",
       "</table>\n",
       "</div>"
      ],
      "text/plain": [
       "   A  B\n",
       "0  1  4\n",
       "1  2  5\n",
       "2  3  6"
      ]
     },
     "execution_count": 4,
     "metadata": {},
     "output_type": "execute_result"
    }
   ],
   "source": [
    "df"
   ]
  }
 ],
 "metadata": {
  "kernelspec": {
   "display_name": "base",
   "language": "python",
   "name": "python3"
  },
  "language_info": {
   "codemirror_mode": {
    "name": "ipython",
    "version": 3
   },
   "file_extension": ".py",
   "mimetype": "text/x-python",
   "name": "python",
   "nbconvert_exporter": "python",
   "pygments_lexer": "ipython3",
   "version": "3.7.11"
  }
 },
 "nbformat": 4,
 "nbformat_minor": 2
}
